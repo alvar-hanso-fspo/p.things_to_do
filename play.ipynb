{
 "cells": [
  {
   "cell_type": "code",
   "execution_count": 1,
   "metadata": {},
   "outputs": [
    {
     "name": "stdout",
     "output_type": "stream",
     "text": [
      "things:///add-project?title=Secao&to-dos=Udemy.Curso.1%0AUdemy.Curso.2%0AUdemy.Curso.3%0AUdemy.Curso.4%0AUdemy.Curso.5%0AUdemy.Curso.6%0AUdemy.Curso.7%0AUdemy.Curso.8%0AUdemy.Curso.9%0AUdemy.Curso.10%0AUdemy.Curso.11%0AUdemy.Curso.12%0AUdemy.Curso.13%0AUdemy.Curso.14%0AUdemy.Curso.15%0AUdemy.Curso.16%0AUdemy.Curso.17%0AUdemy.Curso.18%0AUdemy.Curso.19%0AUdemy.Curso.20%0AUdemy.Curso.21%0AUdemy.Curso.22%0AUdemy.Curso.23%0AUdemy.Curso.24%0AUdemy.Curso.25%0AUdemy.Curso.26%0AUdemy.Curso.27%0AUdemy.Curso.28%0AUdemy.Curso.29%0AUdemy.Curso.30%0AUdemy.Curso.31%0AUdemy.Curso.32%0AUdemy.Curso.33%0AUdemy.Curso.34%0AUdemy.Curso.35%0AUdemy.Curso.36%0AUdemy.Curso.37%0AUdemy.Curso.38%0AUdemy.Curso.39%0AUdemy.Curso.40%0AUdemy.Curso.41%0AUdemy.Curso.42%0AUdemy.Curso.43%0AUdemy.Curso.44%0AUdemy.Curso.45%0AUdemy.Curso.46%0AUdemy.Curso.47%0AUdemy.Curso.48%0AUdemy.Curso.49%0AUdemy.Curso.50%0AUdemy.Curso.51%0AUdemy.Curso.52%0AUdemy.Curso.53%0AUdemy.Curso.54%0AUdemy.Curso.55%0AUdemy.Curso.56%0AUdemy.Curso.57%0AUdemy.Curso.58%0AUdemy.Curso.59%0AUdemy.Curso.60%0AUdemy.Curso.61%0AUdemy.Curso.62%0AUdemy.Curso.63%0AUdemy.Curso.64%0AUdemy.Curso.65%0AUdemy.Curso.66%0AUdemy.Curso.67%0AUdemy.Curso.68%0AUdemy.Curso.69%0AUdemy.Curso.70%0AUdemy.Curso.71%0AUdemy.Curso.72%0AUdemy.Curso.73%0AUdemy.Curso.74%0AUdemy.Curso.75%0AUdemy.Curso.76%0AUdemy.Curso.77%0AUdemy.Curso.78%0AUdemy.Curso.79%0AUdemy.Curso.80%0AUdemy.Curso.81%0AUdemy.Curso.82%0AUdemy.Curso.83%0AUdemy.Curso.84%0AUdemy.Curso.85%0AUdemy.Curso.86%0AUdemy.Curso.87%0AUdemy.Curso.88%0AUdemy.Curso.89%0AUdemy.Curso.90%0AUdemy.Curso.91%0AUdemy.Curso.92%0AUdemy.Curso.93%0AUdemy.Curso.94%0AUdemy.Curso.95%0AUdemy.Curso.96%0AUdemy.Curso.97%0AUdemy.Curso.98%0AUdemy.Curso.99%0AUdemy.Curso.100%0AUdemy.Curso.101%0AUdemy.Curso.102%0AUdemy.Curso.103%0AUdemy.Curso.104%0AUdemy.Curso.105%0AUdemy.Curso.106%0AUdemy.Curso.107%0AUdemy.Curso.108%0AUdemy.Curso.109%0AUdemy.Curso.110%0AUdemy.Curso.111%0AUdemy.Curso.112%0AUdemy.Curso.113%0AUdemy.Curso.114%0AUdemy.Curso.115%0AUdemy.Curso.116%0AUdemy.Curso.117%0AUdemy.Curso.118%0AUdemy.Curso.119%0AUdemy.Curso.120%0AUdemy.Curso.121%0AUdemy.Curso.122%0AUdemy.Curso.123%0AUdemy.Curso.124%0AUdemy.Curso.125%0AUdemy.Curso.126%0AUdemy.Curso.127%0AUdemy.Curso.128%0AUdemy.Curso.129%0AUdemy.Curso.130%0AUdemy.Curso.131%0AUdemy.Curso.132%0AUdemy.Curso.133%0AUdemy.Curso.134%0AUdemy.Curso.135%0AUdemy.Curso.136%0AUdemy.Curso.137%0AUdemy.Curso.138%0AUdemy.Curso.139%0AUdemy.Curso.140%0AUdemy.Curso.141%0AUdemy.Curso.142%0AUdemy.Curso.143%0AUdemy.Curso.144%0AUdemy.Curso.145%0AUdemy.Curso.146%0AUdemy.Curso.147%0AUdemy.Curso.148%0AUdemy.Curso.149%0AUdemy.Curso.150%0AUdemy.Curso.151%0AUdemy.Curso.152%0AUdemy.Curso.153%0AUdemy.Curso.154%0AUdemy.Curso.155%0AUdemy.Curso.156%0AUdemy.Curso.157%0AUdemy.Curso.158%0AUdemy.Curso.159%0AUdemy.Curso.160%0AUdemy.Curso.161%0AUdemy.Curso.162%0AUdemy.Curso.163%0AUdemy.Curso.164%0AUdemy.Curso.165%0AUdemy.Curso.166%0AUdemy.Curso.167%0AUdemy.Curso.168%0AUdemy.Curso.169%0AUdemy.Curso.170%0AUdemy.Curso.171%0AUdemy.Curso.172%0AUdemy.Curso.173%0AUdemy.Curso.174%0AUdemy.Curso.175%0AUdemy.Curso.176%0AUdemy.Curso.177%0AUdemy.Curso.178%0AUdemy.Curso.179%0AUdemy.Curso.180%0AUdemy.Curso.181%0AUdemy.Curso.182%0AUdemy.Curso.183%0AUdemy.Curso.184%0AUdemy.Curso.185%0AUdemy.Curso.186%0AUdemy.Curso.187%0AUdemy.Curso.188%0AUdemy.Curso.189%0AUdemy.Curso.190%0AUdemy.Curso.191%0AUdemy.Curso.192%0AUdemy.Curso.193%0AUdemy.Curso.194%0AUdemy.Curso.195%0AUdemy.Curso.196%0AUdemy.Curso.197%0AUdemy.Curso.198%0AUdemy.Curso.199%0AUdemy.Curso.200%0AUdemy.Curso.201%0AUdemy.Curso.202%0AUdemy.Curso.203%0AUdemy.Curso.204%0AUdemy.Curso.205%0AUdemy.Curso.206%0AUdemy.Curso.207%0AUdemy.Curso.208%0AUdemy.Curso.209%0AUdemy.Curso.210%0AUdemy.Curso.211%0AUdemy.Curso.212%0AUdemy.Curso.213%0AUdemy.Curso.214%0AUdemy.Curso.215%0AUdemy.Curso.216%0AUdemy.Curso.217%0AUdemy.Curso.218%0AUdemy.Curso.219%0AUdemy.Curso.220%0AUdemy.Curso.221%0AUdemy.Curso.222%0AUdemy.Curso.223%0AUdemy.Curso.224%0AUdemy.Curso.225%0AUdemy.Curso.226%0AUdemy.Curso.227%0AUdemy.Curso.228%0AUdemy.Curso.229%0AUdemy.Curso.230%0AUdemy.Curso.231%0AUdemy.Curso.232%0AUdemy.Curso.233%0AUdemy.Curso.234%0AUdemy.Curso.235%0AUdemy.Curso.236%0AUdemy.Curso.237%0AUdemy.Curso.238%0AUdemy.Curso.239%0AUdemy.Curso.240%0AUdemy.Curso.241%0AUdemy.Curso.242%0AUdemy.Curso.243%0AUdemy.Curso.244%0AUdemy.Curso.245%0AUdemy.Curso.246%0AUdemy.Curso.247%0AUdemy.Curso.248%0AUdemy.Curso.249%0AUdemy.Curso.250%0AUdemy.Curso.251%0AUdemy.Curso.252%0AUdemy.Curso.253%0AUdemy.Curso.254%0AUdemy.Curso.255%0AUdemy.Curso.256%0AUdemy.Curso.257%0AUdemy.Curso.258%0AUdemy.Curso.259%0AUdemy.Curso.260%0AUdemy.Curso.261%0AUdemy.Curso.262%0AUdemy.Curso.263%0AUdemy.Curso.264%0AUdemy.Curso.265%0AUdemy.Curso.266%0AUdemy.Curso.267%0AUdemy.Curso.268%0AUdemy.Curso.269%0AUdemy.Curso.270%0AUdemy.Curso.271%0AUdemy.Curso.272%0AUdemy.Curso.273%0AUdemy.Curso.274%0AUdemy.Curso.275%0AUdemy.Curso.276%0AUdemy.Curso.277%0AUdemy.Curso.278%0AUdemy.Curso.279%0AUdemy.Curso.280%0AUdemy.Curso.281%0AUdemy.Curso.282%0AUdemy.Curso.283%0AUdemy.Curso.284%0AUdemy.Curso.285%0AUdemy.Curso.286%0AUdemy.Curso.287%0AUdemy.Curso.288%0AUdemy.Curso.289%0AUdemy.Curso.290%0AUdemy.Curso.291%0AUdemy.Curso.292%0AUdemy.Curso.293%0AUdemy.Curso.294%0AUdemy.Curso.295%0AUdemy.Curso.296%0AUdemy.Curso.297%0AUdemy.Curso.298%0AUdemy.Curso.299%0AUdemy.Curso.300%0AUdemy.Curso.301%0AUdemy.Curso.302%0AUdemy.Curso.303%0AUdemy.Curso.304%0AUdemy.Curso.305%0AUdemy.Curso.306%0AUdemy.Curso.307%0AUdemy.Curso.308%0AUdemy.Curso.309%0AUdemy.Curso.310%0AUdemy.Curso.311%0AUdemy.Curso.312%0AUdemy.Curso.313%0AUdemy.Curso.314%0AUdemy.Curso.315%0AUdemy.Curso.316%0AUdemy.Curso.317%0AUdemy.Curso.318%0AUdemy.Curso.319%0AUdemy.Curso.320%0AUdemy.Curso.321%0AUdemy.Curso.322%0AUdemy.Curso.323%0AUdemy.Curso.324%0AUdemy.Curso.325%0AUdemy.Curso.326%0AUdemy.Curso.327%0AUdemy.Curso.328%0AUdemy.Curso.329%0AUdemy.Curso.330%0AUdemy.Curso.331%0AUdemy.Curso.332%0AUdemy.Curso.333%0AUdemy.Curso.334%0AUdemy.Curso.335%0AUdemy.Curso.336%0AUdemy.Curso.337%0AUdemy.Curso.338%0AUdemy.Curso.339%0AUdemy.Curso.340%0AUdemy.Curso.341%0AUdemy.Curso.342%0AUdemy.Curso.343%0AUdemy.Curso.344%0AUdemy.Curso.345%0AUdemy.Curso.346%0AUdemy.Curso.347%0AUdemy.Curso.348%0AUdemy.Curso.349%0AUdemy.Curso.350%0AUdemy.Curso.351%0AUdemy.Curso.352%0AUdemy.Curso.353%0AUdemy.Curso.354%0AUdemy.Curso.355%0AUdemy.Curso.356%0AUdemy.Curso.357%0AUdemy.Curso.358%0AUdemy.Curso.359%0AUdemy.Curso.360%0AUdemy.Curso.361%0AUdemy.Curso.362%0AUdemy.Curso.363%0AUdemy.Curso.364%0AUdemy.Curso.365%0AUdemy.Curso.366%0AUdemy.Curso.367%0AUdemy.Curso.368%0AUdemy.Curso.369%0AUdemy.Curso.370%0AUdemy.Curso.371%0AUdemy.Curso.372%0AUdemy.Curso.373%0AUdemy.Curso.374%0AUdemy.Curso.375%0AUdemy.Curso.376%0AUdemy.Curso.377%0AUdemy.Curso.378%0AUdemy.Curso.379%0AUdemy.Curso.380%0AUdemy.Curso.381%0AUdemy.Curso.382%0AUdemy.Curso.383%0AUdemy.Curso.384%0AUdemy.Curso.385%0AUdemy.Curso.386%0AUdemy.Curso.387%0AUdemy.Curso.388%0AUdemy.Curso.389%0AUdemy.Curso.390%0AUdemy.Curso.391%0AUdemy.Curso.392%0AUdemy.Curso.393%0AUdemy.Curso.394%0AUdemy.Curso.395%0AUdemy.Curso.396%0AUdemy.Curso.397%0AUdemy.Curso.398%0AUdemy.Curso.399%0AUdemy.Curso.400%0AUdemy.Curso.401%0AUdemy.Curso.402%0AUdemy.Curso.403%0AUdemy.Curso.404%0AUdemy.Curso.405%0AUdemy.Curso.406%0AUdemy.Curso.407%0AUdemy.Curso.408%0AUdemy.Curso.409%0AUdemy.Curso.410%0AUdemy.Curso.411%0AUdemy.Curso.412%0AUdemy.Curso.413%0AUdemy.Curso.414%0AUdemy.Curso.415%0AUdemy.Curso.416%0AUdemy.Curso.417%0AUdemy.Curso.418%0AUdemy.Curso.419%0AUdemy.Curso.420%0AUdemy.Curso.421%0AUdemy.Curso.422%0AUdemy.Curso.423%0AUdemy.Curso.424%0AUdemy.Curso.425%0AUdemy.Curso.426%0AUdemy.Curso.427%0AUdemy.Curso.428%0AUdemy.Curso.429%0AUdemy.Curso.430%0AUdemy.Curso.431%0AUdemy.Curso.432%0AUdemy.Curso.433%0AUdemy.Curso.434%0AUdemy.Curso.435%0AUdemy.Curso.436%0AUdemy.Curso.437%0AUdemy.Curso.438%0AUdemy.Curso.439%0AUdemy.Curso.440%0AUdemy.Curso.441%0AUdemy.Curso.442%0AUdemy.Curso.443%0AUdemy.Curso.444%0AUdemy.Curso.445%0AUdemy.Curso.446%0AUdemy.Curso.447%0AUdemy.Curso.448%0AUdemy.Curso.449%0AUdemy.Curso.450%0AUdemy.Curso.451%0AUdemy.Curso.452%0AUdemy.Curso.453%0AUdemy.Curso.454%0AUdemy.Curso.455%0AUdemy.Curso.456%0AUdemy.Curso.457%0AUdemy.Curso.458%0AUdemy.Curso.459%0AUdemy.Curso.460%0AUdemy.Curso.461%0AUdemy.Curso.462%0AUdemy.Curso.463%0AUdemy.Curso.464%0AUdemy.Curso.465%0AUdemy.Curso.466%0AUdemy.Curso.467%0AUdemy.Curso.468%0AUdemy.Curso.469%0AUdemy.Curso.470%0AUdemy.Curso.471%0AUdemy.Curso.472%0AUdemy.Curso.473%0AUdemy.Curso.474%0AUdemy.Curso.475%0AUdemy.Curso.476%0AUdemy.Curso.477%0AUdemy.Curso.478%0AUdemy.Curso.479%0AUdemy.Curso.480%0AUdemy.Curso.481%0AUdemy.Curso.482%0AUdemy.Curso.483%0AUdemy.Curso.484%0AUdemy.Curso.485%0AUdemy.Curso.486%0AUdemy.Curso.487%0AUdemy.Curso.488%0AUdemy.Curso.489%0AUdemy.Curso.490%0AUdemy.Curso.491%0AUdemy.Curso.492%0AUdemy.Curso.493%0AUdemy.Curso.494%0AUdemy.Curso.495%0AUdemy.Curso.496%0AUdemy.Curso.497%0AUdemy.Curso.498%0AUdemy.Curso.499%0AUdemy.Curso.500%0AUdemy.Curso.501%0AUdemy.Curso.502%0AUdemy.Curso.503%0AUdemy.Curso.504%0AUdemy.Curso.505%0AUdemy.Curso.506%0AUdemy.Curso.507%0AUdemy.Curso.508%0AUdemy.Curso.509%0AUdemy.Curso.510%0AUdemy.Curso.511%0AUdemy.Curso.512%0AUdemy.Curso.513%0AUdemy.Curso.514%0AUdemy.Curso.515%0AUdemy.Curso.516%0AUdemy.Curso.517%0AUdemy.Curso.518%0AUdemy.Curso.519%0AUdemy.Curso.520%0AUdemy.Curso.521%0AUdemy.Curso.522%0AUdemy.Curso.523%0AUdemy.Curso.524%0AUdemy.Curso.525%0AUdemy.Curso.526%0AUdemy.Curso.527%0AUdemy.Curso.528%0AUdemy.Curso.529%0AUdemy.Curso.530%0AUdemy.Curso.531%0AUdemy.Curso.532%0AUdemy.Curso.533%0AUdemy.Curso.534%0AUdemy.Curso.535%0AUdemy.Curso.536%0AUdemy.Curso.537%0AUdemy.Curso.538%0AUdemy.Curso.539%0AUdemy.Curso.540%0AUdemy.Curso.541%0AUdemy.Curso.542%0AUdemy.Curso.543%0AUdemy.Curso.544%0AUdemy.Curso.545%0AUdemy.Curso.546%0AUdemy.Curso.547%0AUdemy.Curso.548%0AUdemy.Curso.549%0AUdemy.Curso.550%0AUdemy.Curso.551%0AUdemy.Curso.552%0AUdemy.Curso.553%0AUdemy.Curso.554%0AUdemy.Curso.555%0AUdemy.Curso.556%0AUdemy.Curso.557%0AUdemy.Curso.558%0AUdemy.Curso.559%0AUdemy.Curso.560%0AUdemy.Curso.561%0AUdemy.Curso.562%0AUdemy.Curso.563%0AUdemy.Curso.564%0AUdemy.Curso.565%0AUdemy.Curso.566%0AUdemy.Curso.567%0AUdemy.Curso.568%0AUdemy.Curso.569%0AUdemy.Curso.570%0AUdemy.Curso.571%0AUdemy.Curso.572%0AUdemy.Curso.573%0AUdemy.Curso.574%0AUdemy.Curso.575%0AUdemy.Curso.576%0AUdemy.Curso.577%0AUdemy.Curso.578%0AUdemy.Curso.579%0AUdemy.Curso.580%0AUdemy.Curso.581%0AUdemy.Curso.582%0AUdemy.Curso.583%0AUdemy.Curso.584%0AUdemy.Curso.585%0AUdemy.Curso.586%0AUdemy.Curso.587%0AUdemy.Curso.588%0AUdemy.Curso.589%0AUdemy.Curso.590%0AUdemy.Curso.591%0AUdemy.Curso.592%0AUdemy.Curso.593%0AUdemy.Curso.594%0AUdemy.Curso.595%0AUdemy.Curso.596%0AUdemy.Curso.597%0AUdemy.Curso.598%0AUdemy.Curso.599%0AUdemy.Curso.600%0AUdemy.Curso.601%0AUdemy.Curso.602%0AUdemy.Curso.603%0AUdemy.Curso.604%0AUdemy.Curso.605%0AUdemy.Curso.606%0AUdemy.Curso.607%0AUdemy.Curso.608%0AUdemy.Curso.609%0AUdemy.Curso.610%0AUdemy.Curso.611%0AUdemy.Curso.612%0AUdemy.Curso.613%0AUdemy.Curso.614%0AUdemy.Curso.615%0AUdemy.Curso.616%0AUdemy.Curso.617%0AUdemy.Curso.618%0AUdemy.Curso.619%0AUdemy.Curso.620%0AUdemy.Curso.621%0AUdemy.Curso.622%0AUdemy.Curso.623%0AUdemy.Curso.624%0AUdemy.Curso.625%0AUdemy.Curso.626%0AUdemy.Curso.627%0AUdemy.Curso.628%0AUdemy.Curso.629%0AUdemy.Curso.630%0AUdemy.Curso.631%0AUdemy.Curso.632%0AUdemy.Curso.633%0AUdemy.Curso.634%0AUdemy.Curso.635%0AUdemy.Curso.636%0AUdemy.Curso.637%0AUdemy.Curso.638%0AUdemy.Curso.639%0AUdemy.Curso.640%0AUdemy.Curso.641%0AUdemy.Curso.642%0AUdemy.Curso.643%0AUdemy.Curso.644%0AUdemy.Curso.645%0AUdemy.Curso.646%0AUdemy.Curso.647%0AUdemy.Curso.648%0AUdemy.Curso.649%0AUdemy.Curso.650%0AUdemy.Curso.651%0AUdemy.Curso.652%0AUdemy.Curso.653%0AUdemy.Curso.654%0AUdemy.Curso.655%0AUdemy.Curso.656%0AUdemy.Curso.657%0AUdemy.Curso.658%0AUdemy.Curso.659%0AUdemy.Curso.660%0AUdemy.Curso.661%0AUdemy.Curso.662%0AUdemy.Curso.663%0AUdemy.Curso.664%0AUdemy.Curso.665%0AUdemy.Curso.666%0AUdemy.Curso.667%0AUdemy.Curso.668%0AUdemy.Curso.669%0AUdemy.Curso.670%0AUdemy.Curso.671%0AUdemy.Curso.672%0AUdemy.Curso.673%0AUdemy.Curso.674%0AUdemy.Curso.675%0AUdemy.Curso.676%0AUdemy.Curso.677%0AUdemy.Curso.678%0AUdemy.Curso.679%0AUdemy.Curso.680%0AUdemy.Curso.681%0AUdemy.Curso.682%0AUdemy.Curso.683%0AUdemy.Curso.684%0AUdemy.Curso.685%0AUdemy.Curso.686%0AUdemy.Curso.687%0AUdemy.Curso.688%0AUdemy.Curso.689%0AUdemy.Curso.690%0AUdemy.Curso.691%0AUdemy.Curso.692%0AUdemy.Curso.693%0AUdemy.Curso.694%0A\n"
     ]
    }
   ],
   "source": [
    "project_name = 'Secao'\n",
    "\n",
    "nomes = {\n",
    "'Udemy.Curso.': 694\n",
    "#'Secao.02.': 7,\n",
    "#'Secao.03.': 16,\n",
    "#'Secao.04.': 45,\n",
    "#'Secao.05.': 12,\n",
    "}\n",
    "\n",
    "project_default = \"things:///add-project?title=\"\n",
    "to_do_default = \"to-dos=\"\n",
    "to_dos = \"\"\n",
    "\n",
    "for to_do_name, number in nomes.items():\n",
    "    for i in range(1,number+1):\n",
    "        result = f'{project_default}{project_name}&{to_do_default}'    \n",
    "        to_dos = f'{to_dos}{to_do_name}{str(i)}%0A'\n",
    "print(result + to_dos)\n",
    "\n"
   ]
  },
  {
   "cell_type": "code",
   "execution_count": null,
   "metadata": {},
   "outputs": [],
   "source": []
  }
 ],
 "metadata": {
  "kernelspec": {
   "display_name": "Python 3",
   "language": "python",
   "name": "python3"
  },
  "language_info": {
   "codemirror_mode": {
    "name": "ipython",
    "version": 3
   },
   "file_extension": ".py",
   "mimetype": "text/x-python",
   "name": "python",
   "nbconvert_exporter": "python",
   "pygments_lexer": "ipython3",
   "version": "3.10.7"
  },
  "orig_nbformat": 4,
  "vscode": {
   "interpreter": {
    "hash": "aee8b7b246df8f9039afb4144a1f6fd8d2ca17a180786b69acc140d282b71a49"
   }
  }
 },
 "nbformat": 4,
 "nbformat_minor": 2
}
