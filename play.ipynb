{
 "cells": [
  {
   "cell_type": "code",
   "execution_count": 4,
   "metadata": {},
   "outputs": [
    {
     "name": "stdout",
     "output_type": "stream",
     "text": [
      "things:///add-project?title=LivePython&to-dos=LivePython-1%0ALivePython-2%0ALivePython-3%0ALivePython-4%0ALivePython-5%0ALivePython-6%0ALivePython-7%0ALivePython-8%0ALivePython-9%0ALivePython-10%0ALivePython-11%0ALivePython-12%0ALivePython-13%0ALivePython-14%0ALivePython-15%0ALivePython-16%0ALivePython-17%0ALivePython-18%0ALivePython-19%0ALivePython-20%0ALivePython-21%0ALivePython-22%0ALivePython-23%0ALivePython-24%0ALivePython-25%0ALivePython-26%0ALivePython-27%0ALivePython-28%0ALivePython-29%0ALivePython-30%0ALivePython-31%0ALivePython-32%0ALivePython-33%0ALivePython-34%0ALivePython-35%0ALivePython-36%0ALivePython-37%0ALivePython-38%0ALivePython-39%0ALivePython-40%0ALivePython-41%0ALivePython-42%0ALivePython-43%0ALivePython-44%0ALivePython-45%0ALivePython-46%0ALivePython-47%0ALivePython-48%0ALivePython-49%0ALivePython-50%0ALivePython-51%0ALivePython-52%0ALivePython-53%0ALivePython-54%0ALivePython-55%0ALivePython-56%0ALivePython-57%0ALivePython-58%0ALivePython-59%0ALivePython-60%0ALivePython-61%0ALivePython-62%0ALivePython-63%0ALivePython-64%0ALivePython-65%0ALivePython-66%0ALivePython-67%0ALivePython-68%0ALivePython-69%0ALivePython-70%0ALivePython-71%0ALivePython-72%0ALivePython-73%0ALivePython-74%0ALivePython-75%0ALivePython-76%0ALivePython-77%0ALivePython-78%0ALivePython-79%0ALivePython-80%0ALivePython-81%0ALivePython-82%0ALivePython-83%0ALivePython-84%0ALivePython-85%0ALivePython-86%0ALivePython-87%0ALivePython-88%0ALivePython-89%0ALivePython-90%0ALivePython-91%0ALivePython-92%0ALivePython-93%0ALivePython-94%0ALivePython-95%0ALivePython-96%0ALivePython-97%0ALivePython-98%0ALivePython-99%0ALivePython-100%0ALivePython-101%0ALivePython-102%0ALivePython-103%0ALivePython-104%0ALivePython-105%0ALivePython-106%0ALivePython-107%0ALivePython-108%0ALivePython-109%0ALivePython-110%0ALivePython-111%0ALivePython-112%0ALivePython-113%0ALivePython-114%0ALivePython-115%0ALivePython-116%0ALivePython-117%0ALivePython-118%0ALivePython-119%0ALivePython-120%0ALivePython-121%0ALivePython-122%0ALivePython-123%0ALivePython-124%0ALivePython-125%0ALivePython-126%0ALivePython-127%0ALivePython-128%0ALivePython-129%0ALivePython-130%0ALivePython-131%0ALivePython-132%0ALivePython-133%0ALivePython-134%0ALivePython-135%0ALivePython-136%0ALivePython-137%0ALivePython-138%0ALivePython-139%0ALivePython-140%0ALivePython-141%0ALivePython-142%0ALivePython-143%0ALivePython-144%0ALivePython-145%0ALivePython-146%0ALivePython-147%0ALivePython-148%0ALivePython-149%0ALivePython-150%0ALivePython-151%0ALivePython-152%0ALivePython-153%0ALivePython-154%0ALivePython-155%0ALivePython-156%0ALivePython-157%0ALivePython-158%0ALivePython-159%0ALivePython-160%0ALivePython-161%0ALivePython-162%0ALivePython-163%0ALivePython-164%0ALivePython-165%0ALivePython-166%0ALivePython-167%0ALivePython-168%0ALivePython-169%0ALivePython-170%0ALivePython-171%0ALivePython-172%0ALivePython-173%0ALivePython-174%0ALivePython-175%0ALivePython-176%0ALivePython-177%0ALivePython-178%0ALivePython-179%0ALivePython-180%0ALivePython-181%0ALivePython-182%0ALivePython-183%0ALivePython-184%0ALivePython-185%0ALivePython-186%0ALivePython-187%0ALivePython-188%0ALivePython-189%0ALivePython-190%0ALivePython-191%0ALivePython-192%0ALivePython-193%0ALivePython-194%0ALivePython-195%0ALivePython-196%0ALivePython-197%0ALivePython-198%0ALivePython-199%0ALivePython-200%0ALivePython-201%0ALivePython-202%0ALivePython-203%0ALivePython-204%0ALivePython-205%0ALivePython-206%0ALivePython-207%0ALivePython-208%0ALivePython-209%0ALivePython-210%0ALivePython-211%0ALivePython-212%0ALivePython-213%0ALivePython-214%0ALivePython-215%0ALivePython-216%0ALivePython-217%0ALivePython-218%0ALivePython-219%0ALivePython-220%0ALivePython-221%0ALivePython-222%0ALivePython-223%0ALivePython-224%0ALivePython-225%0ALivePython-226%0ALivePython-227%0ALivePython-228%0ALivePython-229%0ALivePython-230%0ALivePython-231%0ALivePython-232%0ALivePython-233%0ALivePython-234%0ALivePython-235%0ALivePython-236%0ALivePython-237%0ALivePython-238%0ALivePython-239%0ALivePython-240%0ALivePython-241%0ALivePython-242%0ALivePython-243%0ALivePython-244%0ALivePython-245%0ALivePython-246%0ALivePython-247%0ALivePython-248%0ALivePython-249%0ALivePython-250%0ALivePython-251%0ALivePython-252%0ALivePython-253%0ALivePython-254%0ALivePython-255%0ALivePython-256%0ALivePython-257%0ALivePython-258%0ALivePython-259%0ALivePython-260%0ALivePython-261%0ALivePython-262%0ALivePython-263%0ALivePython-264%0ALivePython-265%0ALivePython-266%0ALivePython-267%0ALivePython-268%0ALivePython-269%0ALivePython-270%0ALivePython-271%0ALivePython-272%0ALivePython-273%0ALivePython-274%0ALivePython-275%0ALivePython-276%0ALivePython-277%0ALivePython-278%0ALivePython-279%0ALivePython-280%0ALivePython-281%0ALivePython-282%0ALivePython-283%0ALivePython-284%0ALivePython-285%0ALivePython-286%0ALivePython-287%0ALivePython-288%0ALivePython-289%0ALivePython-290%0ALivePython-291%0ALivePython-292%0ALivePython-293%0ALivePython-294%0ALivePython-295%0ALivePython-296%0ALivePython-297%0ALivePython-298%0ALivePython-299%0ALivePython-300%0A\n"
     ]
    }
   ],
   "source": [
    "#https://culturedcode.com/things/support/articles/2803573/\n",
    "\n",
    "\n",
    "def to_do_generator():\n",
    "\n",
    "    #    project_name = input(\"Project title: \").replace(\" \",\"_\")\n",
    "    #    to_do_name = input(\"To-Do name: \").replace(\" \",\"_\")\n",
    "    #    tag_name = input(\"Tag name: \").replace(\" \",\"_\")\n",
    "    #    initial_number = int(input(\"First number: \"))\n",
    "    #    final_number = int(input(\"Final number: \"))\n",
    "\n",
    "    # **********************\n",
    "    project_name = 'LivePython'  # Não deixe espaço em branco\n",
    "    to_do_name = 'LivePython-'\n",
    "    initial_number = 1\n",
    "    final_number = 300\n",
    "    # **********************\n",
    "\n",
    "    project_default = \"things:///add-project?title=\"\n",
    "    to_do_default = \"to-dos=\"\n",
    "    #tag_name = 'tags='\n",
    "    to_dos = \"\"\n",
    "\n",
    "    result = f'{project_default}{project_name}&{to_do_default}'\n",
    "\n",
    "    for number in range(initial_number, final_number + 1):\n",
    "        to_dos = f'{to_dos}{to_do_name}{str(number)}%0A'\n",
    "    return result + to_dos\n",
    "\n",
    "\n",
    "print(to_do_generator())\n",
    "\n",
    "# just paste in browser address"
   ]
  },
  {
   "cell_type": "code",
   "execution_count": null,
   "metadata": {},
   "outputs": [],
   "source": []
  }
 ],
 "metadata": {
  "kernelspec": {
   "display_name": "Python 3",
   "language": "python",
   "name": "python3"
  },
  "language_info": {
   "codemirror_mode": {
    "name": "ipython",
    "version": 3
   },
   "file_extension": ".py",
   "mimetype": "text/x-python",
   "name": "python",
   "nbconvert_exporter": "python",
   "pygments_lexer": "ipython3",
   "version": "3.11.5"
  },
  "orig_nbformat": 4,
  "vscode": {
   "interpreter": {
    "hash": "aee8b7b246df8f9039afb4144a1f6fd8d2ca17a180786b69acc140d282b71a49"
   }
  }
 },
 "nbformat": 4,
 "nbformat_minor": 2
}
